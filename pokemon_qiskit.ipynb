{
 "cells": [
  {
   "cell_type": "code",
   "execution_count": 1,
   "metadata": {},
   "outputs": [],
   "source": [
    "# Importa bibliotecas standard de python\n",
    "import requests\n",
    "import json\n",
    "import os\n",
    "\n",
    "# Algunas bibliotecas básicas de qiskit\n",
    "import qiskit\n",
    "\n",
    "# Reemplazo de Aer y execute\n",
    "#from qiskit.providers.aer import AerSimulator\n",
    "from qiskit_aer import AerSimulator, Aer\n",
    "\n",
    "from qiskit import QuantumCircuit, transpile\n",
    "from qiskit.quantum_info import Statevector\n",
    "from qiskit.providers.basic_provider import BasicSimulator\n",
    "\n",
    "# Uso de simulador básico\n",
    "simulador_basic = BasicSimulator()\n",
    "\n",
    "# Uso de la plataforma IBM online\n",
    "from qiskit_ibm_runtime import QiskitRuntimeService\n",
    "# Token obtenido al registrarse en la página IBM Quantum Platform\n",
    "token = \"5f6a8ceffc578f85109b9ab5bd3377e128398e474c45dbbe01bcbb354d9a145d13f29132b775b216b81d65b6c6c3aab568ec9b23b4d0600b6ffe31c4471315ee\"\n",
    "# Servicio de ejecución en tiempo real de Qiskit en la Computadora Cuántica de IBM en la nube\n",
    "service = QiskitRuntimeService(channel=\"ibm_quantum\", token=token)\n",
    "# Guardar cuenta de token\n",
    "#QiskitRuntimeService.save_account(channel=\"ibm_quantum\", token=token)\n",
    "\n",
    "# Versión de Qiskit\n",
    "#qiskit.__version__"
   ]
  },
  {
   "cell_type": "code",
   "execution_count": 2,
   "metadata": {},
   "outputs": [],
   "source": [
    "# Función que obtiene datos y verifica el estado del código\n",
    "def obtener_datos_pokemon(nombre):\n",
    "    # Hacer la petición a la API\n",
    "    url = f\"https://pokeapi.co/api/v2/pokemon/{nombre.lower()}\"\n",
    "    response = requests.get(url)\n",
    "    \n",
    "    # Verificar el status code\n",
    "    if response.status_code == 200:\n",
    "        return response.json()\n",
    "    else:\n",
    "        return None"
   ]
  },
  {
   "cell_type": "code",
   "execution_count": 3,
   "metadata": {},
   "outputs": [],
   "source": [
    "# Se muestran los datos solicitados del pokemon\n",
    "def mostrar_datos_pokemon(datos):\n",
    "    print(f\"Nombre: {datos['name'].capitalize()}\")\n",
    "    print(f\"Peso: {datos['weight']} hectogramos\")\n",
    "    print(f\"Altura: {datos['height']} decímetros\")\n",
    "    print(\"Tipos: \", \", \".join([tipo['type']['name'] for tipo in datos['types']]))\n",
    "    print(\"Habilidades: \", \", \".join([habilidad['ability']['name'] for habilidad in datos['abilities']]))\n",
    "    # Mostrando solo 5 movimientos\n",
    "    print(\"Movimientos: \", \", \".join([movimiento['move']['name'] for movimiento in datos['moves'][:5]]))\n",
    "    print(f\"Imagen: {datos['sprites']['front_default']}\")"
   ]
  },
  {
   "cell_type": "code",
   "execution_count": 4,
   "metadata": {},
   "outputs": [],
   "source": [
    "# Se guardan los datos del pokemon en un archivo .json que se crea automáticamente\n",
    "def guardar_datos_pokemon(datos):\n",
    "    if not os.path.exists(\"pokedex\"):\n",
    "        os.makedirs(\"pokedex\")\n",
    "    \n",
    "    nombre_archivo = f\"pokedex/{datos['name']}.json\"\n",
    "    with open(nombre_archivo, 'w') as archivo:\n",
    "        json.dump(datos, archivo, indent=4)"
   ]
  },
  {
   "cell_type": "markdown",
   "metadata": {},
   "source": [
    "### \"USO DE COMPUTACIÓN CUÁNTICA PARA TOMA DE DECISIONES\""
   ]
  },
  {
   "cell_type": "code",
   "execution_count": 5,
   "metadata": {},
   "outputs": [],
   "source": [
    "# Se ejecuta un Circuito Cuántico para la toma de decision\n",
    "def decidir_con_computacion_cuantica():\n",
    "    # Crear un circuito cuántico con un qubit y un bit clásico\n",
    "    circuito = QuantumCircuit(1, 1)\n",
    "    \n",
    "    # Aplicar la puerta Hadamard para poner al Qubit en Superposición Cuántica\n",
    "    circuito.h(0)\n",
    "    \n",
    "    # Medir el qubit para que colapse\n",
    "    circuito.measure(0, 0)\n",
    "    \n",
    "    # Ejecutar el circuito en el simulador cuántico\n",
    "    simulador = AerSimulator()\n",
    "    resultado = simulador.run(circuito).result()\n",
    "    cuentas = resultado.get_counts()\n",
    "    \n",
    "    # Mostrar los resultados\n",
    "    print(f\"Resultado cuántico: {cuentas}\")\n",
    "    \n",
    "    # Decidir basándose en el resultado cuántico\n",
    "    # Si el resultado es '1', decide guardar los datos\n",
    "    return cuentas.get('1', 0) > 400"
   ]
  },
  {
   "cell_type": "markdown",
   "metadata": {},
   "source": [
    "##### Algunos nombres de Pokémon: ditto, pikachu, torterra, piplup, starly, bibarel, shinx, pachirisu, shellos"
   ]
  },
  {
   "cell_type": "code",
   "execution_count": null,
   "metadata": {},
   "outputs": [],
   "source": [
    "# Función principal\n",
    "def main():\n",
    "    # Se introduce un nombre del pokemon, ya sea correcto o no.\n",
    "    nombre_pokemon = input(\"Introduce el nombre del Pokémon: \")\n",
    "    # Se obtienen los datos del pokemon de acuerdo a ese nombre si es que existe\n",
    "    datos_pokemon = obtener_datos_pokemon(nombre_pokemon)\n",
    "    \n",
    "    if datos_pokemon:\n",
    "        mostrar_datos_pokemon(datos_pokemon)\n",
    "        \n",
    "        # Decidir con computación cuántica si guardar o no los datos\n",
    "        if decidir_con_computacion_cuantica():\n",
    "            guardar_datos_pokemon(datos_pokemon)\n",
    "            print(f\"Datos de {nombre_pokemon.capitalize()} guardados en pokedex/{nombre_pokemon}.json\")\n",
    "        else:\n",
    "            print(\"Los datos no se guardarán, decisión tomada por la computación cuántica.\")\n",
    "    else:\n",
    "        print(\"Pokémon no encontrado. Por favor, verifica el nombre e inténtalo de nuevo.\")\n",
    "\n",
    "# Llamada y ejecución de la función principal\n",
    "if __name__ == \"__main__\":\n",
    "    main()"
   ]
  },
  {
   "cell_type": "markdown",
   "metadata": {},
   "source": [
    "##### Se ha decidido guardar los datos porque el resultado cuántico para la clave '1' es mayor que 400. En este caso, dado que el resultado '1' se obtuvo 529 veces, y 529 es mayor que 400, la condición es True."
   ]
  },
  {
   "cell_type": "code",
   "execution_count": null,
   "metadata": {},
   "outputs": [],
   "source": [
    "from PyQt6.QtWidgets import QApplication, QInputDialog, QMessageBox\n",
    "\n",
    "# Initialize the PyQt application\n",
    "app = QApplication([])\n",
    "\n",
    "# Window to input the Pokemon name\n",
    "pokemon_name, ok = QInputDialog.getText(None, \"Input Dialog\", \"Enter Pokémon Name:\")\n",
    "\n",
    "# Check if user provided a name\n",
    "if ok and pokemon_name:\n",
    "    datos_pokemon = obtener_datos_pokemon(pokemon_name)\n",
    "\n",
    "    if datos_pokemon:\n",
    "        # Prepare the data to display\n",
    "        pokemon_info = f\"Name: {datos_pokemon['name'].capitalize()}\\n\" \\\n",
    "                       f\"Weight: {datos_pokemon['weight']} hectograms\\n\" \\\n",
    "                       f\"Height: {datos_pokemon['height']} decimeters\\n\" \\\n",
    "                       f\"Types: {', '.join([tipo['type']['name'] for tipo in datos_pokemon['types']])}\\n\" \\\n",
    "                       f\"Abilities: {', '.join([habilidad['ability']['name'] for habilidad in datos_pokemon['abilities']])}\\n\" \\\n",
    "                       f\"Image URL: {datos_pokemon['sprites']['front_default']}\"\n",
    "        \n",
    "        # Show the Pokemon information in a message box\n",
    "        QMessageBox.information(None, \"Pokémon Information\", pokemon_info)\n",
    "        \n",
    "        # Execute the quantum decision-making process\n",
    "        if decidir_con_computacion_cuantica():\n",
    "            guardar_datos_pokemon(datos_pokemon)\n",
    "            QMessageBox.information(None, \"Decision\", f\"Data for {pokemon_name.capitalize()} saved in pokedex/{pokemon_name}.json\")\n",
    "        else:\n",
    "            QMessageBox.information(None, \"Decision\", \"The data will not be saved, decided by quantum computing.\")\n",
    "    else:\n",
    "        QMessageBox.warning(None, \"Error\", \"Pokémon not found. Please check the name and try again.\")\n",
    "\n",
    "app.quit()\n"
   ]
  },
  {
   "cell_type": "code",
   "execution_count": null,
   "metadata": {},
   "outputs": [],
   "source": []
  }
 ],
 "metadata": {
  "kernelspec": {
   "display_name": "pokemon_qiskit",
   "language": "python",
   "name": "python3"
  },
  "language_info": {
   "codemirror_mode": {
    "name": "ipython",
    "version": 3
   },
   "file_extension": ".py",
   "mimetype": "text/x-python",
   "name": "python",
   "nbconvert_exporter": "python",
   "pygments_lexer": "ipython3",
   "version": "3.10.11"
  }
 },
 "nbformat": 4,
 "nbformat_minor": 2
}
